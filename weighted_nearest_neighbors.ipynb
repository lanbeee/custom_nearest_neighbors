{
 "cells": [
  {
   "cell_type": "code",
   "execution_count": 1,
   "metadata": {
    "id": "ZtEFRBgZVds-"
   },
   "outputs": [],
   "source": [
    "import numpy as np\n",
    "import pandas as pd\n",
    "from sklearn.datasets import fetch_california_housing\n",
    "from sklearn.metrics import mean_absolute_percentage_error\n",
    "from tqdm import tqdm"
   ]
  },
  {
   "cell_type": "code",
   "execution_count": 2,
   "metadata": {
    "id": "M-BzMlwz6wX9"
   },
   "outputs": [],
   "source": [
    "import torch\n",
    "import torch.nn as nn\n",
    "import torch.optim as optim"
   ]
  },
  {
   "cell_type": "code",
   "execution_count": 3,
   "metadata": {
    "id": "yhVu1p8PRw4r"
   },
   "outputs": [],
   "source": [
    "BATCH_SIZE = 64\n",
    "EPOCHS = 3\n",
    "VAL_PCT = 0.3"
   ]
  },
  {
   "cell_type": "code",
   "execution_count": 4,
   "metadata": {
    "colab": {
     "base_uri": "https://localhost:8080/"
    },
    "id": "dOE7XJ1S_eIU",
    "outputId": "8a76f607-29a3-43cb-b1e2-fc3ad7862673"
   },
   "outputs": [
    {
     "data": {
      "text/html": [
       "<div>\n",
       "<style scoped>\n",
       "    .dataframe tbody tr th:only-of-type {\n",
       "        vertical-align: middle;\n",
       "    }\n",
       "\n",
       "    .dataframe tbody tr th {\n",
       "        vertical-align: top;\n",
       "    }\n",
       "\n",
       "    .dataframe thead th {\n",
       "        text-align: right;\n",
       "    }\n",
       "</style>\n",
       "<table border=\"1\" class=\"dataframe\">\n",
       "  <thead>\n",
       "    <tr style=\"text-align: right;\">\n",
       "      <th></th>\n",
       "      <th>MedInc</th>\n",
       "      <th>HouseAge</th>\n",
       "      <th>AveRooms</th>\n",
       "      <th>AveBedrms</th>\n",
       "      <th>Population</th>\n",
       "      <th>AveOccup</th>\n",
       "      <th>Latitude</th>\n",
       "      <th>Longitude</th>\n",
       "    </tr>\n",
       "  </thead>\n",
       "  <tbody>\n",
       "    <tr>\n",
       "      <th>0</th>\n",
       "      <td>8.3252</td>\n",
       "      <td>41.0</td>\n",
       "      <td>6.984127</td>\n",
       "      <td>1.023810</td>\n",
       "      <td>322.0</td>\n",
       "      <td>2.555556</td>\n",
       "      <td>37.88</td>\n",
       "      <td>-122.23</td>\n",
       "    </tr>\n",
       "    <tr>\n",
       "      <th>1</th>\n",
       "      <td>8.3014</td>\n",
       "      <td>21.0</td>\n",
       "      <td>6.238137</td>\n",
       "      <td>0.971880</td>\n",
       "      <td>2401.0</td>\n",
       "      <td>2.109842</td>\n",
       "      <td>37.86</td>\n",
       "      <td>-122.22</td>\n",
       "    </tr>\n",
       "    <tr>\n",
       "      <th>2</th>\n",
       "      <td>7.2574</td>\n",
       "      <td>52.0</td>\n",
       "      <td>8.288136</td>\n",
       "      <td>1.073446</td>\n",
       "      <td>496.0</td>\n",
       "      <td>2.802260</td>\n",
       "      <td>37.85</td>\n",
       "      <td>-122.24</td>\n",
       "    </tr>\n",
       "    <tr>\n",
       "      <th>3</th>\n",
       "      <td>5.6431</td>\n",
       "      <td>52.0</td>\n",
       "      <td>5.817352</td>\n",
       "      <td>1.073059</td>\n",
       "      <td>558.0</td>\n",
       "      <td>2.547945</td>\n",
       "      <td>37.85</td>\n",
       "      <td>-122.25</td>\n",
       "    </tr>\n",
       "    <tr>\n",
       "      <th>4</th>\n",
       "      <td>3.8462</td>\n",
       "      <td>52.0</td>\n",
       "      <td>6.281853</td>\n",
       "      <td>1.081081</td>\n",
       "      <td>565.0</td>\n",
       "      <td>2.181467</td>\n",
       "      <td>37.85</td>\n",
       "      <td>-122.25</td>\n",
       "    </tr>\n",
       "  </tbody>\n",
       "</table>\n",
       "</div>"
      ],
      "text/plain": [
       "   MedInc  HouseAge  AveRooms  AveBedrms  Population  AveOccup  Latitude  \\\n",
       "0  8.3252      41.0  6.984127   1.023810       322.0  2.555556     37.88   \n",
       "1  8.3014      21.0  6.238137   0.971880      2401.0  2.109842     37.86   \n",
       "2  7.2574      52.0  8.288136   1.073446       496.0  2.802260     37.85   \n",
       "3  5.6431      52.0  5.817352   1.073059       558.0  2.547945     37.85   \n",
       "4  3.8462      52.0  6.281853   1.081081       565.0  2.181467     37.85   \n",
       "\n",
       "   Longitude  \n",
       "0    -122.23  \n",
       "1    -122.22  \n",
       "2    -122.24  \n",
       "3    -122.25  \n",
       "4    -122.25  "
      ]
     },
     "execution_count": 4,
     "metadata": {},
     "output_type": "execute_result"
    }
   ],
   "source": [
    "data_load = fetch_california_housing()\n",
    "pd.DataFrame(data_load.data, columns=data_load.feature_names).head()"
   ]
  },
  {
   "cell_type": "code",
   "execution_count": 5,
   "metadata": {
    "id": "8Ou2Bvs5XUrE"
   },
   "outputs": [
    {
     "name": "stdout",
     "output_type": "stream",
     "text": [
      "Train Records:  14448 , Test Records:  6192\n"
     ]
    }
   ],
   "source": [
    "X = torch.Tensor(data_load.data)\n",
    "y = torch.Tensor(data_load.target)\n",
    "\n",
    "val_size = int(len(X)*VAL_PCT)\n",
    "\n",
    "train_X = X[:-val_size]\n",
    "train_y = y[:-val_size]\n",
    "\n",
    "test_X = X[-val_size:]\n",
    "test_y = y[-val_size:]\n",
    "\n",
    "print('Train Records: ', len(train_X), ', Test Records: ', len(test_X) )"
   ]
  },
  {
   "cell_type": "code",
   "execution_count": 6,
   "metadata": {
    "id": "gRbRU9fwQTOm"
   },
   "outputs": [],
   "source": [
    "class W_KNN(nn.Module):\n",
    "\n",
    "    def __init__(self, EPSILON = .0001, N_NEIGHBORS = 5):\n",
    "        super(NET, self).__init__()\n",
    "        self.N_NEIGHBORS = N_NEIGHBORS\n",
    "        self.EPSILON = EPSILON                         # to avoid division by 0\n",
    "        self.weights = nn.Parameter(torch.ones(8))\n",
    "\n",
    "    def forward(self, x1, x2, y2 ):\n",
    "        '''Making predictions for x1.\n",
    "        Choosing Neighbors from x2.\n",
    "        Assigning target values from the neighbors using weighted average'''\n",
    "\n",
    "        x1 = torch.matmul(x1, (self.weights * torch.eye(x1.shape[1]) ))\n",
    "        x2 = torch.matmul(x2, (self.weights * torch.eye(x2.shape[1]) ))\n",
    "        \n",
    "        # pairwise distance\n",
    "        dist_mat = torch.cdist(x1, x2)\n",
    "        sorted_dist, indices = torch.sort(dist_mat)\n",
    "        neighbors = indices[:, :self.N_NEIGHBORS]\n",
    "        dist_inv = 1/(sorted_dist[:,:self.N_NEIGHBORS] + self.EPSILON)\n",
    "        \n",
    "        # to calculate weighted average. proportional to inverse of the distance\n",
    "        weightages = dist_inv/ torch.matmul(torch.eye(x1.shape[0]) * dist_inv.sum(1), torch.ones_like(dist_inv))\n",
    "        predictions = ((y2[neighbors]) * weightages).sum(1)\n",
    "        \n",
    "        return predictions\n",
    "    \n",
    "    def predict(self, test_X, train_X, train_Y ):\n",
    "        '''Similar to forward pass.\n",
    "        In addition to predictions this also returns nearest neighbor indexes.'''\n",
    "\n",
    "        x1 = torch.matmul(test_X, (self.weights * torch.eye(test_X.shape[1]) ))\n",
    "        x2 = torch.matmul(train_X, (self.weights * torch.eye(train_X.shape[1]) ))\n",
    "\n",
    "        dist_mat = torch.cdist(x1, x2)\n",
    "        sorted_dist, indices = torch.sort(dist_mat)\n",
    "        neighbors = indices[:, :self.N_NEIGHBORS]\n",
    "        dist_inv = 1/(sorted_dist[:,:self.N_NEIGHBORS] + self.EPSILON)\n",
    "        weightages = dist_inv/ torch.matmul(torch.eye(x1.shape[0]) * dist_inv.sum(1), torch.ones_like(dist_inv))\n",
    "        predictions = ((train_Y[neighbors]) * weightages).sum(1)\n",
    "        \n",
    "        return predictions.detach(), neighbors"
   ]
  },
  {
   "cell_type": "code",
   "execution_count": 7,
   "metadata": {},
   "outputs": [
    {
     "data": {
      "text/plain": [
       "0.4784127"
      ]
     },
     "execution_count": 7,
     "metadata": {},
     "output_type": "execute_result"
    }
   ],
   "source": [
    "model = W_KNN()\n",
    "predictions, comparables = model.predict(test_X, train_X, train_y)\n",
    "mean_absolute_percentage_error(test_y, predictions)     # MAPE without optimal weights"
   ]
  },
  {
   "cell_type": "code",
   "execution_count": 8,
   "metadata": {
    "id": "NTY7NTzrQVR3"
   },
   "outputs": [
    {
     "name": "stderr",
     "output_type": "stream",
     "text": [
      "100%|█████████████████████████████████████████| 226/226 [00:25<00:00,  8.75it/s]\n",
      "100%|█████████████████████████████████████████| 226/226 [00:26<00:00,  8.47it/s]\n",
      "100%|█████████████████████████████████████████| 226/226 [00:26<00:00,  8.50it/s]\n"
     ]
    }
   ],
   "source": [
    "loss_func = nn.MSELoss()\n",
    "optimizer = optim.Adam(model.parameters(), lr=.01)\n",
    "\n",
    "for epoch in range(EPOCHS):\n",
    "    for i in tqdm(range(0, len(train_X), BATCH_SIZE)):\n",
    "        \n",
    "        x1_index = list(range(i, i+BATCH_SIZE))\n",
    "        x2_index = [i for i in range(len(train_X)) if i not in x1_index ]\n",
    "\n",
    "        batch_x1 = train_X[i : i+BATCH_SIZE]\n",
    "        batch_x2 = train_X[x2_index]\n",
    "\n",
    "        batch_y1 = train_y[i : i+BATCH_SIZE]\n",
    "        batch_y2 = train_y[x2_index]\n",
    "\n",
    "        pred = model(batch_x1,batch_x2,batch_y2)\n",
    "\n",
    "        loss = loss_func(pred, batch_y1)\n",
    "        loss.backward()\n",
    "        optimizer.step()\n",
    "        optimizer.zero_grad()\n"
   ]
  },
  {
   "cell_type": "code",
   "execution_count": 9,
   "metadata": {
    "colab": {
     "base_uri": "https://localhost:8080/"
    },
    "id": "Zl5owXENeT6M",
    "outputId": "d32ca7e2-660a-4799-9bfa-c096b12850d7"
   },
   "outputs": [
    {
     "data": {
      "text/html": [
       "<div>\n",
       "<style scoped>\n",
       "    .dataframe tbody tr th:only-of-type {\n",
       "        vertical-align: middle;\n",
       "    }\n",
       "\n",
       "    .dataframe tbody tr th {\n",
       "        vertical-align: top;\n",
       "    }\n",
       "\n",
       "    .dataframe thead th {\n",
       "        text-align: right;\n",
       "    }\n",
       "</style>\n",
       "<table border=\"1\" class=\"dataframe\">\n",
       "  <thead>\n",
       "    <tr style=\"text-align: right;\">\n",
       "      <th></th>\n",
       "      <th>weight</th>\n",
       "    </tr>\n",
       "  </thead>\n",
       "  <tbody>\n",
       "    <tr>\n",
       "      <th>MedInc</th>\n",
       "      <td>1.420884</td>\n",
       "    </tr>\n",
       "    <tr>\n",
       "      <th>HouseAge</th>\n",
       "      <td>0.038708</td>\n",
       "    </tr>\n",
       "    <tr>\n",
       "      <th>AveRooms</th>\n",
       "      <td>0.485311</td>\n",
       "    </tr>\n",
       "    <tr>\n",
       "      <th>AveBedrms</th>\n",
       "      <td>2.004348</td>\n",
       "    </tr>\n",
       "    <tr>\n",
       "      <th>Population</th>\n",
       "      <td>0.025391</td>\n",
       "    </tr>\n",
       "    <tr>\n",
       "      <th>AveOccup</th>\n",
       "      <td>2.274510</td>\n",
       "    </tr>\n",
       "    <tr>\n",
       "      <th>Latitude</th>\n",
       "      <td>1.697351</td>\n",
       "    </tr>\n",
       "    <tr>\n",
       "      <th>Longitude</th>\n",
       "      <td>2.415420</td>\n",
       "    </tr>\n",
       "  </tbody>\n",
       "</table>\n",
       "</div>"
      ],
      "text/plain": [
       "              weight\n",
       "MedInc      1.420884\n",
       "HouseAge    0.038708\n",
       "AveRooms    0.485311\n",
       "AveBedrms   2.004348\n",
       "Population  0.025391\n",
       "AveOccup    2.274510\n",
       "Latitude    1.697351\n",
       "Longitude   2.415420"
      ]
     },
     "execution_count": 9,
     "metadata": {},
     "output_type": "execute_result"
    }
   ],
   "source": [
    "pd.DataFrame(model.weights.detach().numpy(), data_load.feature_names, columns = ['weight'])"
   ]
  },
  {
   "cell_type": "code",
   "execution_count": 10,
   "metadata": {},
   "outputs": [
    {
     "data": {
      "text/plain": [
       "0.28552243"
      ]
     },
     "execution_count": 10,
     "metadata": {},
     "output_type": "execute_result"
    }
   ],
   "source": [
    "predictions, comparables = model.predict(test_X, train_X, train_y)\n",
    "mean_absolute_percentage_error(test_y, predictions)           # MAPE with improved weights"
   ]
  }
 ],
 "metadata": {
  "colab": {
   "collapsed_sections": [],
   "name": "nearest neighbour model",
   "provenance": []
  },
  "kernelspec": {
   "display_name": "Python 3 (ipykernel)",
   "language": "python",
   "name": "python3"
  },
  "language_info": {
   "codemirror_mode": {
    "name": "ipython",
    "version": 3
   },
   "file_extension": ".py",
   "mimetype": "text/x-python",
   "name": "python",
   "nbconvert_exporter": "python",
   "pygments_lexer": "ipython3",
   "version": "3.9.7"
  }
 },
 "nbformat": 4,
 "nbformat_minor": 1
}
